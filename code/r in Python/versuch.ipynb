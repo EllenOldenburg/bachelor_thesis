{
 "cells": [
  {
   "cell_type": "code",
   "execution_count": 23,
   "metadata": {},
   "outputs": [],
   "source": [
    "import csv\n",
    "import matplotlib.pyplot as plt\n",
    "import pandas as pd\n",
    "import seaborn as sns"
   ]
  },
  {
   "cell_type": "markdown",
   "metadata": {},
   "source": [
    "## Text Datei öffnen\n",
    "Die Dateien werden Variablen zugewiesen"
   ]
  },
  {
   "cell_type": "code",
   "execution_count": 24,
   "metadata": {},
   "outputs": [],
   "source": [
    "dataset_txt = \"colombos_ecoli_exprdata_20151029.txt\"\n",
    "dataset_csv = \"colombos_ecoli_exprdata_20151029.csv\""
   ]
  },
  {
   "cell_type": "markdown",
   "metadata": {},
   "source": [
    "Die Textdatei wird geöffnet und ausgelesen. Der Inhalt wird in \"content\" gespeichert"
   ]
  },
  {
   "cell_type": "code",
   "execution_count": 26,
   "metadata": {},
   "outputs": [
    {
     "name": "stderr",
     "output_type": "stream",
     "text": [
      "IOPub data rate exceeded.\n",
      "The notebook server will temporarily stop sending output\n",
      "to the client in order to avoid crashing it.\n",
      "To change this limit, set the config variable\n",
      "`--NotebookApp.iopub_data_rate_limit`.\n",
      "\n",
      "Current values:\n",
      "NotebookApp.iopub_data_rate_limit=1000000.0 (bytes/sec)\n",
      "NotebookApp.rate_limit_window=3.0 (secs)\n",
      "\n"
     ]
    }
   ],
   "source": [
    "with open(dataset_txt, \"r\", encoding=\"utf-8\") as input_file: \n",
    "    content = input_file.readlines()\n",
    "    \n",
    "print(content)\n"
   ]
  },
  {
   "cell_type": "markdown",
   "metadata": {},
   "source": [
    "Alle Reihen der Textdatei werden in die Liste \"reihen\" gespeichert, hierbei werden Leer- und Satzzeichen gelöscht."
   ]
  },
  {
   "cell_type": "code",
   "execution_count": 15,
   "metadata": {},
   "outputs": [],
   "source": []
  },
  {
   "cell_type": "code",
   "execution_count": null,
   "metadata": {},
   "outputs": [],
   "source": []
  },
  {
   "cell_type": "code",
   "execution_count": null,
   "metadata": {},
   "outputs": [],
   "source": []
  },
  {
   "cell_type": "code",
   "execution_count": null,
   "metadata": {},
   "outputs": [],
   "source": []
  },
  {
   "cell_type": "code",
   "execution_count": null,
   "metadata": {},
   "outputs": [],
   "source": []
  },
  {
   "cell_type": "code",
   "execution_count": null,
   "metadata": {},
   "outputs": [],
   "source": [
    "## parameters\n",
    "minlevel = 1.5\n",
    "Kg = 3\n",
    "Ke = 3\n",
    "intermax = 100000\n",
    "nstart = 100"
   ]
  },
  {
   "cell_type": "code",
   "execution_count": null,
   "metadata": {},
   "outputs": [],
   "source": [
    "#was sind goi und lgoapi\n",
    "goi = [\"rpsA\",\"gyrA\",\"gyrB\",\"topA\",\"hspQ\",\"aceA\",\"araA\",\"zwf\",\"tktA\"]\n",
    "lgoapi = [\"folA\",\"rpsB\"]"
   ]
  },
  {
   "cell_type": "code",
   "execution_count": null,
   "metadata": {},
   "outputs": [],
   "source": [
    "# muss ich noch umändern\n",
    "## colors\n",
    "colfunc <- colorRampPalette(c(\"blue\", rgb(.99,.99,.99),\"red\")) \n",
    "heatcols <- colfunc(100)"
   ]
  },
  {
   "cell_type": "code",
   "execution_count": null,
   "metadata": {},
   "outputs": [],
   "source": [
    "## COLOMBO DB - ca 4000 data sets\n",
    "#von expressionsdaten\n",
    "dat <- read.delim(file.path(dat.path,\"colombos_ecoli_exprdata_20151029.txt\"),\n",
    "                  stringsAsFactors=FALSE,row.names=1,skip=6)\n",
    "View(dat)\n",
    "# alle gennamen (alles aus 1 spalte)\n",
    "ids <- dat[,1] # get gene names\n",
    "\n",
    "# löschen der ID Spalte (ist nur Durchnummerierung) und der Gennamen\n",
    "dat <- dat[,-(1:2)] # rm ID columns\n",
    "View(dat)"
   ]
  },
  {
   "cell_type": "code",
   "execution_count": 4,
   "metadata": {},
   "outputs": [
    {
     "name": "stderr",
     "output_type": "stream",
     "text": [
      "IOPub data rate exceeded.\n",
      "The notebook server will temporarily stop sending output\n",
      "to the client in order to avoid crashing it.\n",
      "To change this limit, set the config variable\n",
      "`--NotebookApp.iopub_data_rate_limit`.\n",
      "\n",
      "Current values:\n",
      "NotebookApp.iopub_data_rate_limit=1000000.0 (bytes/sec)\n",
      "NotebookApp.rate_limit_window=3.0 (secs)\n",
      "\n"
     ]
    }
   ],
   "source": [
    "## COLOMBO DB - ca 4000 data sets\n",
    "#von expressionsdaten\n",
    "\n",
    "dat = open(\"colombos_ecoli_exprdata_20151029.txt\", \"r\")\n",
    "for line in dat:\n",
    "    print(line.rstrip())\n",
    "dat.close()\n",
    "\n"
   ]
  },
  {
   "cell_type": "code",
   "execution_count": 9,
   "metadata": {},
   "outputs": [],
   "source": [
    "sdatei = open('colombos_ecoli_exprdata_20151029.txt')\n",
    "l = sdatei.readlines()\n",
    "sdatei.close()\n",
    "l.append('Na funktioniert es?\\n')\n",
    "sdatei = open('datei.txt','w')\n",
    "sdatei.write(\"\".join(l))\n",
    "sdatei.close()"
   ]
  },
  {
   "cell_type": "code",
   "execution_count": null,
   "metadata": {},
   "outputs": [],
   "source": []
  }
 ],
 "metadata": {
  "kernelspec": {
   "display_name": "Python 3",
   "language": "python",
   "name": "python3"
  },
  "language_info": {
   "codemirror_mode": {
    "name": "ipython",
    "version": 3
   },
   "file_extension": ".py",
   "mimetype": "text/x-python",
   "name": "python",
   "nbconvert_exporter": "python",
   "pygments_lexer": "ipython3",
   "version": "3.6.6"
  }
 },
 "nbformat": 4,
 "nbformat_minor": 2
}
