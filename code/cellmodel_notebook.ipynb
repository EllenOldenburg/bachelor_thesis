{
 "cells": [
  {
   "cell_type": "markdown",
   "metadata": {},
   "source": [
    "imports"
   ]
  },
  {
   "cell_type": "code",
   "execution_count": 40,
   "metadata": {},
   "outputs": [],
   "source": [
    "import numpy as np\n",
    "import matplotlib.pyplot as plt\n",
    "import scipy.integrate"
   ]
  },
  {
   "cell_type": "markdown",
   "metadata": {},
   "source": [
    "Integrator"
   ]
  },
  {
   "cell_type": "code",
   "execution_count": 41,
   "metadata": {},
   "outputs": [],
   "source": [
    "def Integration(x0):\n",
    "    Integ = scipy.integrate.ode(changeValues).set_integrator('lsoda').set_initial_value(x0, 0)\n",
    "    Integ.set_f_params(PAR)\n",
    "    return Integ"
   ]
  },
  {
   "cell_type": "markdown",
   "metadata": {},
   "source": [
    "time Course"
   ]
  },
  {
   "cell_type": "code",
   "execution_count": 42,
   "metadata": {},
   "outputs": [],
   "source": [
    "def timeCourse(t, x0):\n",
    "    #x0 = INPUT_VALUES\n",
    "    integrator = Integration(x0)\n",
    "    array = [x0]\n",
    "    cnt = 1\n",
    "\n",
    "    while cnt < len(t):\n",
    "        array.append(integrator.integrate(t[cnt]))\n",
    "        cnt += 1\n",
    "\n",
    "    return array"
   ]
  },
  {
   "cell_type": "markdown",
   "metadata": {},
   "source": [
    "Parameter"
   ]
  },
  {
   "cell_type": "code",
   "execution_count": 43,
   "metadata": {},
   "outputs": [],
   "source": [
    "'''\n",
    "\n",
    "PAR = {'s': 1,  # externer Nährstoff\n",
    "       'dm': 1,  # mRNA-Abbaurate\n",
    "       'ns': 1,  # Nährstoffeffizienz\n",
    "       'nr': 1,  # Ribosomenlänge\n",
    "       'nx': 1,  # Länge nicht-ribosomaler Proteine\n",
    "       'ymax': 1,  # max. übersetzen Dehnungsrate\n",
    "       'Ky': 1,  # Übersetzung Verlängerungsschwelle\n",
    "       'vt': 1,  # max. Nährstoffimportrate\n",
    "       'Kt': 1,  # Nährstoffimportschwelle\n",
    "       'vm': 1,  # max. enzymatische Rate\n",
    "       'Km': 1,  # enzymatic threshold\n",
    "       'wr': 1,  # max. Ribosomen-Transkriptionsrate\n",
    "       'we': 1,  # max. Enzymtranskriptionsrate   we = wt = wm\n",
    "       'wq': 1,  # max. q-Transkriptionsrate\n",
    "       'thetar': 1,  # Ribosomentranskriptionsschwelle\n",
    "       'thetanr': 1,  # Nicht-ribosomale Transkriptionsschwelle\n",
    "       'Kq': 1,  # q-Autoinhibitionsschwelle\n",
    "       'hq': 1,  # q-Autoinhibition Hill-Koeffizient\n",
    "       'kb': 1,  # mRNA-Ribosomen-Bindungsrate\n",
    "       'ku': 1,  # mRNA-Ribosomen-Nichtbindungsrate\n",
    "       'M': 1,  # total cell mass\n",
    "       'kcm': 1,  # Chloramphenicol-Bindungsrate\n",
    "       'thetax': [1, 1, 1],  #transkriptionswelle #transcriptional energy-thresholds\n",
    "       'wx': [1, 1, 1],  # wt,wm,wr,wq transkriptionsraten #maximal transcription rates\n",
    "}\n",
    "\n",
    "'''\n",
    "\n",
    "PAR = { 's': 10 ** 4,  # externer Nährstoff\n",
    "         'dm': 0.1,  # mRNA-Abbaurate\n",
    "         'ns': 0.5,  # Nährstoffeffizienz\n",
    "         'nr': 7459,  # Ribosomenlänge\n",
    "         'nx': 300,  # Länge nicht-ribosomaler Proteine\n",
    "         'ymax': 1260,  # max. übersetzen Dehnungsrate\n",
    "         'Ky': 7,  # Übersetzung Verlängerungsschwelle\n",
    "         'vt': 726,  # max. Nährstoffimportrate\n",
    "         'Kt': 1000,  # Nährstoffimportschwelle\n",
    "         'vm': 5800,  # max. enzymatische Rate\n",
    "         'Km': 1000,  # enzymatic threshold\n",
    "         'wr': 930,  # max. Ribosomen-Transkriptionsrate\n",
    "         'we': 4.14,  # max. Enzymtranskriptionsrate   we = wt = wm#\n",
    "         'wq': 948.93,  # max. q-Transkriptionsrate\n",
    "         'thetar': 426.87,  # Ribosomentranskriptionsschwelle\n",
    "         'thetanr': 4.38,  # Nicht-ribosomale Transkriptionsschwelle\n",
    "         'Kq': 152219,  # q-Autoinhibitionsschwelle\n",
    "         'hq': 4,  # q-Autoinhibition Hill-Koeffizient\n",
    "         'kb': 1,  # mRNA-Ribosomen-Bindungsrate\n",
    "         'ku': 1,  # mRNA-Ribosomen-Nichtbindungsrate\n",
    "         'M': 10 ** 8,  # total cell mass\n",
    "         'kcm': 0.00599,  # Chloramphenicol-Bindungsrate\n",
    "         'thetax': [4.38, 4.38, 426.87, 4.38],  #transkriptionswelle #transcriptional energy-thresholds\n",
    "         'wx': [4.15, 4.15, 930, 948.93],  # wt,wm,wr,wq transkriptionsraten #maximal transcription rates\n",
    "         'l': 1\n",
    " }\n",
    "\n"
   ]
  },
  {
   "cell_type": "markdown",
   "metadata": {},
   "source": [
    "initial Values"
   ]
  },
  {
   "cell_type": "code",
   "execution_count": 44,
   "metadata": {},
   "outputs": [],
   "source": [
    "#               si,    a,    r,    et,   em,  q,     mt,   mm,   mr,   mq,   ct,   cm,   cr,   cq,\n",
    "INPUT_VALUES = [1, 1, 1, 1, 1, 1, 1, 1, 1, 1, 1, 1, 1, 1, 10**8]\n",
    "INPUT_VALUES_r = [0, 0,10**(-3), 10**(-3), 10**(-3), 10**(-3), 0, 0, 0, 0, 0, 0, 0, 0, 10**8]\n",
    "#INPUT_VALUES_ = [31096.192, 43297.502, 0.0414, 471.364, 471.364, 471.364, 49.333, 49.333, 8514.558, 8811.960, 0, 0, 0, 0, 10**8] #ribosome-bound mRNA sequestered by chloramphenicol\n",
    "INPUT_VALUES_w = [31096.192, 43297.502, 0.0414, 471.364, 471.364, 471.364, 49.333, 49.333, 8514.558, 8811.960, 0, 357.898, 348.675, 0, 10**8] # ribosome-bound mRNA\n"
   ]
  },
  {
   "cell_type": "markdown",
   "metadata": {},
   "source": [
    "Funktionen"
   ]
  },
  {
   "cell_type": "code",
   "execution_count": 45,
   "metadata": {},
   "outputs": [],
   "source": [
    "def vimp(et, par):\n",
    "    return et * ((par['vt'] * par['s']) / (par['Kt'] + par['s']))\n",
    "\n",
    "def vcat(em, si, par):\n",
    "    return em * ((par['vm'] * si) / (par['Km'] + si))"
   ]
  },
  {
   "cell_type": "code",
   "execution_count": 46,
   "metadata": {},
   "outputs": [],
   "source": [
    "# leitet die nettorate der Translation eines Proteins x ab\n",
    "# 4x\n",
    "def vx(a, cx, par):\n",
    "    return cx * (gamma(a, par) / par['nx'])\n",
    "\n",
    "def vr(a, par, cr):\n",
    "    return cr * (gamma(a, par) / par['nx'])\n",
    "\n",
    "def vq(a, cq, par):\n",
    "    return cq * (gamma(a, par) / par['nx'])\n",
    "\n",
    "# γ ist die Geschwindigkeit der Translationsdehnung mit maximaler Rate γ max = k 2 und Schwelle K γ = k 2 / K p für halbmaximale Dehnung.\n",
    "def gamma(a, par):\n",
    "    return (par['ymax'] * a) / (par['Ky'] + a)"
   ]
  },
  {
   "cell_type": "code",
   "execution_count": 47,
   "metadata": {},
   "outputs": [],
   "source": [
    "# Wenn wir davon ausgehen, dass der Energieverbrauch in jedem Dehnungsschritt konstant ist, folgt daraus die effektive Transkriptionsrate\n",
    "# 4x\n",
    "def omegax(a, wx, thetaX):\n",
    "    omegaResult = []\n",
    "    for i in range(0, 3):\n",
    "        omegaResult.append(wx[i] * (a / (thetaX[i] + a)))\n",
    "\n",
    "    return omegaResult\n",
    "\n",
    "\n",
    "def I(q, par):\n",
    "    return 1/(1+((q/par['Kq'])**par['hq']))\n",
    "\n",
    "\n",
    "def omegaq( a, par, q):\n",
    "    return par['wq'] * (a / (par['thetanr'] + a)) * I(q, par)\n"
   ]
  },
  {
   "cell_type": "code",
   "execution_count": 48,
   "metadata": {},
   "outputs": [],
   "source": [
    "# Die Wachstumsrate λ ist entscheidend, um die zellulären Prozesse mit Wachstum zu verbinden, da alle intrazellulären Spezies durch Umverteilung des Zellinhalts zwischen Mutter- und Tochterzellen verdünnt werden\n",
    "def lamda(a, par, cValues):\n",
    "    return (gamma(a, par) / par['M']) * sum(cValues)\n"
   ]
  },
  {
   "cell_type": "code",
   "execution_count": 49,
   "metadata": {},
   "outputs": [],
   "source": [
    "#die Gesamtmasse der Zelle als Gesamtproteinmasse (einschließlich gebundener Ribosomen)\n",
    "#def M(par):\n",
    "   # return(sum(par['nx']*x)+pa['nr']*sum(cx))\n",
    "\n",
    "#def M(cValue, par):  # die Gesamtmasse der Zelle als Gesamtproteinmasse (einschließlich gebundener Ribosomen)\n",
    "     #return (sum(par['nx'] * x) + par['nr'] * sum(cValue))\n",
    "\n",
    "def M(cValues, r, et, q, em, par):\n",
    "    return par['nr'] * sum(cValues) + par['nr'] * r + par['nx'] * et + par['nx'] * q + par['nx'] * em\n",
    "\n",
    "def nr_r(cValues, et, q, em, par):\n",
    "    return - (par['nr']*sum(cValues) + par['nx'] * et + par['nx'] * q + par['nx'] * em + par['M'])\n"
   ]
  },
  {
   "cell_type": "markdown",
   "metadata": {},
   "source": [
    "Differentialgleichungen"
   ]
  },
  {
   "cell_type": "code",
   "execution_count": 50,
   "metadata": {},
   "outputs": [],
   "source": [
    "# Differentialgleichung für den inneren Nährstoff\n",
    "# 1x\n",
    "def dsi_dt(si, par, et, em, lamdaResult):\n",
    "    return vimp(et, par) - vcat(em, si, par) - lamdaResult * si\n",
    "\n",
    "\n",
    "# Gleichung für die zellulare Energie\n",
    "# 1x\n",
    "def da_dt(a, em, cx, si, par, lamdaResult):\n",
    "    sum_all_protein_in_cell = []\n",
    "    for i in range(0, 4):\n",
    "        sum_all_protein_in_cell.append(par['nx'] * (vx(a, cx[i], par)))\n",
    "    return par['ns'] * vcat(em, si, par) - sum(sum_all_protein_in_cell) - lamdaResult * a\n",
    "\n",
    "\n",
    "# Gleichung für freie Ribosomen  für vr und cr\n",
    "# 1x\n",
    "def dr_dt(a, cx, mx, r, par, lamdaResult, cr):\n",
    "    sum_proteins_ribosomes = []\n",
    "    for i in range(0, 4):\n",
    "        sum_proteins_ribosomes.append(vx(a, cx[i], par) - par['kb'] * r * mx + par['ku'] * cx[i])\n",
    "    return vr(a, par, cr) - lamdaResult * r + sum(sum_proteins_ribosomes)\n",
    "\n",
    "\n",
    "# intrazelluläre Ribosomen Sei r die Anzahl der freien Ribosomen. Bezeichne k b und k u die Bindungs- und Unbindungsraten eines Ribosoms an mRNA (für alle mRNAs als identisch angenommen) und lasse die mRNA für ein Protein x dann m x sein\n",
    "# 4x\n",
    "def dmx_dt(a, cx, mx, r, par, lamdaResult, omegaResult):\n",
    "    return omegaResult - (lamdaResult + par['dm']) * mx + vx(a, cx, par) - par['kb'] * r * mx + par['ku'] * cx\n",
    "\n",
    "\n",
    "def dmq_dt(a, cx, mq, r, par, lamdaResult, q, cq):\n",
    "    return omegaq( a, par, q) - (lamdaResult + par['dm']) * mq + vq(a, cq, par) - par['kb'] * r * mq + par['ku'] * cq\n",
    "\n",
    "\n",
    "# Mit cx wird der Komplex zwischen einem Ribosom bezeichnet und die mRNA für Protein x\n",
    "# 4x\n",
    "def dcxt_dt(a, cx, mx, r, par, lamdaResult):\n",
    "    return ((-lamdaResult * cx)) + par['kb'] * r * mx - par['ku'] * cx - vx(a, cx, par)\n",
    "\n",
    "\n",
    "# Transporterenzyme für vt und ct\n",
    "# Enzym,das si in a umwandelt (metabolische Enzyme)\n",
    "# house-keeping Proteine\n",
    "# 1x\n",
    "def det_dt(a, ct, et, par, lamdaResult):\n",
    "    return vx(a, ct, par) - lamdaResult * et\n"
   ]
  },
  {
   "cell_type": "markdown",
   "metadata": {},
   "source": [
    "changeValues Funktion für Integrator"
   ]
  },
  {
   "cell_type": "code",
   "execution_count": 51,
   "metadata": {},
   "outputs": [],
   "source": [
    "def changeValues(time, i, par):\n",
    "    si = i[0]\n",
    "    a = i[1]\n",
    "    #r = i[2]\n",
    "    #r = par['M']/par['nr']\n",
    "    et = i[3]\n",
    "    em = i[4]\n",
    "    q = i[5]\n",
    "    mt = i[6]\n",
    "    mm = i[7]\n",
    "    mr = i[8]\n",
    "    mq = i[9]\n",
    "    ct = i[10]\n",
    "    cm = i[11]\n",
    "    cr = i[12]\n",
    "    cq = i[13]\n",
    "    cx = [ct, cm, cr, cq]\n",
    "    r = nr_r(cx, et, q, em, par)\n",
    "\n",
    "    omegaResult = omegax(a, par[\"wx\"], par[\"thetax\"])\n",
    "    #lamdaResult = lamda(a, par, cx)\n",
    "    lamdaResult = par['l']\n",
    "    \n",
    "    detResult = det_dt(a, ct, et, par, lamdaResult)\n",
    "    demResult = det_dt(a, cm, em, par, lamdaResult)\n",
    "    dqResult = det_dt(a, cq, q, par, lamdaResult)\n",
    "    dsiResult = dsi_dt(si, par, et, em, lamdaResult)\n",
    "    daResult = da_dt(a, em, cx, si, par, lamdaResult) \n",
    "    #drResult = nr_r(cx, et, q, em, par)\n",
    "    drResult = dr_dt(a, cx, mt, r, par, lamdaResult, cr)\n",
    "    dmtResult = dmx_dt(a, ct, mt, r, par, lamdaResult, omegaResult[0])\n",
    "    dmmResult = dmx_dt(a, cm, mm, r, par, lamdaResult, omegaResult[1])\n",
    "    dmrResult = dmx_dt(a, cr, mr, r, par, lamdaResult, omegaResult[2])\n",
    "    dmqResult = dmq_dt(a, cx, mq, r, par, lamdaResult, q, cq)\n",
    "    dctResult = dcxt_dt(a, ct, mt, r,  par, lamdaResult)\n",
    "    dcmResult = dcxt_dt(a, cm, mm, r,  par, lamdaResult)\n",
    "    dcrResult = dcxt_dt(a, cr, mr, r,  par, lamdaResult)\n",
    "    dcqResult = dcxt_dt(a, cq, mq, r,  par, lamdaResult)\n",
    "\n",
    "    return [\n",
    "        dsiResult,\n",
    "        daResult,\n",
    "        drResult,\n",
    "        detResult,\n",
    "        demResult,\n",
    "        dqResult,\n",
    "        dmtResult,\n",
    "        dmmResult,\n",
    "        dmrResult,\n",
    "        dmqResult,\n",
    "        dcmResult,\n",
    "        dcrResult,\n",
    "        dctResult,\n",
    "        dcqResult\n",
    "        ]"
   ]
  },
  {
   "cell_type": "markdown",
   "metadata": {},
   "source": [
    "Übersicht über Funktion"
   ]
  },
  {
   "cell_type": "code",
   "execution_count": 52,
   "metadata": {},
   "outputs": [
    {
     "name": "stdout",
     "output_type": "stream",
     "text": [
      "INPUT DSI:  [ 6.53205794e+02 -6.28102897e+02  5.00153687e+08 -4.75000000e-01\n",
      " -4.75000000e-01 -4.75000000e-01  1.00030737e+08  1.00030737e+08\n",
      "  1.00030739e+08  1.00030913e+08 -1.00030739e+08 -1.00030739e+08\n",
      " -1.00030739e+08 -1.00030739e+08]\n",
      "LEN INPUT DSI:  14\n"
     ]
    }
   ],
   "source": [
    "t = np.linspace(0, 5, 10)\n",
    "INPUT_VALUESdsi_dt = np.array(changeValues(t, INPUT_VALUES, PAR))\n",
    "print(\"INPUT DSI: \", INPUT_VALUESdsi_dt)\n",
    "print(\"LEN INPUT DSI: \" , len(INPUT_VALUESdsi_dt))"
   ]
  },
  {
   "cell_type": "markdown",
   "metadata": {},
   "source": [
    "Plots"
   ]
  },
  {
   "cell_type": "code",
   "execution_count": 53,
   "metadata": {},
   "outputs": [],
   "source": [
    "results = timeCourse(t, INPUT_VALUES)\n",
    "result_r = timeCourse(t, INPUT_VALUES_r)\n",
    "result_w = timeCourse(t, INPUT_VALUES_w)\n",
    "names = ['si', 'a', 'r', 'et', 'em', 'q', 'mt', 'mm', 'mr', 'mq', 'ct', 'cm', 'cr', 'cq']"
   ]
  },
  {
   "cell_type": "code",
   "execution_count": 54,
   "metadata": {},
   "outputs": [
    {
     "data": {
      "image/png": "[encoded data removed]",
      "text/plain": [
       "<Figure size 432x288 with 1 Axes>"
      ]
     },
     "metadata": {
      "needs_background": "light"
     },
     "output_type": "display_data"
    }
   ],
   "source": [
    "plt.title('Cell model with parameters from the paper', size = 20)\n",
    "plt.xlabel('Time', size = 20)\n",
    "plt.ylabel('Concentration', size = 20)\n",
    "plt.xticks(size = 15)\n",
    "plt.yticks(size = 15)\n",
    "lines = plt.plot(t, result_w)\n",
    "plt.legend(lines[:14], names, prop = {'size': 12}, loc = 'upper left', frameon=True, ncol=2)\n",
    "plt.show()"
   ]
  },
  {
   "cell_type": "code",
   "execution_count": 55,
   "metadata": {},
   "outputs": [
    {
     "data": {
      "image/png": "[encoded data removed]",
      "text/plain": [
       "<Figure size 432x288 with 1 Axes>"
      ]
     },
     "metadata": {
      "needs_background": "light"
     },
     "output_type": "display_data"
    }
   ],
   "source": [
    "plt.title('Cell model with 1', size = 20)\n",
    "plt.xlabel('Time', size = 20)\n",
    "plt.ylabel('Concentration', size = 20)\n",
    "plt.xticks(size = 15)\n",
    "plt.yticks(size = 15)\n",
    "lines = plt.plot(t, results)\n",
    "plt.legend(lines[:14], names, prop = {'size': 12}, loc = 'upper left', frameon=True, ncol=2)\n",
    "plt.show()"
   ]
  },
  {
   "cell_type": "code",
   "execution_count": 56,
   "metadata": {},
   "outputs": [
    {
     "data": {
      "image/png": "[encoded data removed]",
      "text/plain": [
       "<Figure size 432x288 with 1 Axes>"
      ]
     },
     "metadata": {
      "needs_background": "light"
     },
     "output_type": "display_data"
    }
   ],
   "source": [
    "plt.title('Cell model with parameters from R-Script', size = 20)\n",
    "plt.xlabel('Time', size = 20)\n",
    "plt.ylabel('Concentration', size = 20)\n",
    "plt.xticks(size = 15)\n",
    "plt.yticks(size = 15)\n",
    "lines = plt.plot(t, result_r)\n",
    "plt.legend(lines[:14], names, prop = {'size': 12}, loc = 'upper left', frameon=True, ncol=2)\n",
    "plt.show()"
   ]
  },
  {
   "cell_type": "markdown",
   "metadata": {},
   "source": [
    "Fehlersuche"
   ]
  },
  {
   "cell_type": "code",
   "execution_count": 57,
   "metadata": {},
   "outputs": [],
   "source": [
    "\n",
    "#t = np.linspace(0, 100, 30)\n",
    "#print(type(t))\n",
    "#for i in timeCourse(t,INPUT_VALUES):\n",
    "#    for j in i :\n",
    "#        if j <0:\n",
    "#            print(j,i)\n",
    "#            break\n"
   ]
  },
  {
   "cell_type": "markdown",
   "metadata": {},
   "source": [
    "Funktion überprüfen"
   ]
  },
  {
   "cell_type": "code",
   "execution_count": 58,
   "metadata": {},
   "outputs": [
    {
     "data": {
      "text/plain": [
       "[0.0,\n",
       " 0.0,\n",
       " 100000000.0,\n",
       " 0.0,\n",
       " 0.0,\n",
       " 0.0,\n",
       " 0.0,\n",
       " 0.0,\n",
       " 0.0,\n",
       " 0.0,\n",
       " -0.0,\n",
       " -0.0,\n",
       " -0.0,\n",
       " -0.0]"
      ]
     },
     "execution_count": 58,
     "metadata": {},
     "output_type": "execute_result"
    }
   ],
   "source": [
    "changeValues(np.linspace(0, 100, 1000),np.zeros(14),PAR)"
   ]
  },
  {
   "cell_type": "code",
   "execution_count": null,
   "metadata": {},
   "outputs": [],
   "source": []
  },
  {
   "cell_type": "code",
   "execution_count": null,
   "metadata": {},
   "outputs": [],
   "source": []
  },
  {
   "cell_type": "code",
   "execution_count": null,
   "metadata": {},
   "outputs": [],
   "source": []
  }
 ],
 "metadata": {
  "kernelspec": {
   "display_name": "Python 3",
   "language": "python",
   "name": "python3"
  },
  "language_info": {
   "codemirror_mode": {
    "name": "ipython",
    "version": 3
   },
   "file_extension": ".py",
   "mimetype": "text/x-python",
   "name": "python",
   "nbconvert_exporter": "python",
   "pygments_lexer": "ipython3",
   "version": "3.7.2"
  }
 },
 "nbformat": 4,
 "nbformat_minor": 2
}
